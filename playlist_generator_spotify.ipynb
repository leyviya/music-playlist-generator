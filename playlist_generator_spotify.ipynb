{
  "cells": [
    {
      "cell_type": "code",
      "execution_count": null,
      "metadata": {
        "colab": {
          "base_uri": "https://localhost:8080/"
        },
        "id": "I02HXiYhoRgJ",
        "outputId": "49c634bc-585b-42fc-a2ce-d7bed536c239"
      },
      "outputs": [
        {
          "output_type": "stream",
          "name": "stdout",
          "text": [
            "Recommended Songs:\n",
            "1) \"Me Too\" by Meghan Trainor\n",
            "2) \"Santo\" by Christina Aguilera\n",
            "3) \"Right As Rain\" by Adele\n",
            "4) \"Shape of You\" by Ed Sheeran\n",
            "5) \"Memories\" by Maroon 5\n",
            "6) \"Don't Stop The Music\" by Rihanna\n",
            "7) \"If I Die Young (Glee Cast Version)\" by Glee Cast\n",
            "8) \"The One That Got Away - Acoustic\" by Katy Perry\n",
            "9) \"Rumors (feat. Cardi B)\" by Lizzo\n",
            "10) \"Thinking out Loud\" by Ed Sheeran\n",
            "11) \"Sugar\" by Maroon 5\n",
            "12) \"Daydreamer\" by Adele\n",
            "13) \"Little Things\" by One Direction\n",
            "14) \"The One That Got Away\" by Katy Perry\n",
            "15) \"All About That Bass\" by Meghan Trainor\n",
            "16) \"Big Girls Don't Cry (Personal)\" by Fergie\n",
            "17) \"Hey, Soul Sister\" by Train\n",
            "18) \"Tired\" by Adele\n",
            "19) \"Tee Shirt - Soundtrack Version\" by Birdy\n",
            "20) \"California Gurls\" by Katy Perry\n",
            "21) \"She Will Be Loved - Radio Mix\" by Maroon 5\n",
            "22) \"The A Team\" by Ed Sheeran\n",
            "23) \"How to Save a Life\" by The Fray\n",
            "24) \"Imagination\" by Shawn Mendes\n",
            "25) \"Only Girl (In The World)\" by Rihanna\n",
            "26) \"Grenade - Acoustic\" by Bruno Mars\n",
            "27) \"Firework\" by Katy Perry\n",
            "28) \"Prisoner (feat. Dua Lipa)\" by Miley Cyrus\n",
            "29) \"She Will Be Loved - Acoustic\" by Maroon 5\n",
            "30) \"Why Am I Crying\" by Molly Sandén\n"
          ]
        }
      ],
      "source": [
        "\"Music Playlist Manager / Generator with Spotify API\"\n",
        "\"Leyla Abdullayeva - 1904010038 - Computer Engineering\"\n",
        "\n",
        "import requests\n",
        "\n",
        "# SETTINGS \n",
        "endpoint_url = \"https://api.spotify.com/v1/recommendations?\"\n",
        "token = \"BQD-EKh9uXBvpYwY9ydM9C3uYgO-O_IfZc-NrZ7KIIj1ZIGQluzqmAjpJMZ2FTkv7CziL19kEAjPlbY5SStDYWgtTkhGGEyy23FcgVMp2BF8DAPU2K-ViYsto_X0GZby41yD8MSrhyiWfhlALJGm9vQvTbMotHHlER8fqTLIOtANOv3i6KUAEkDvQu0SQkTCxTUDaXIqhRKGoTPPg4I4Wx03tv1j1nMHXRYf1Ya3bN9sTAd7tQxt2FqnAxqHZfMbkA\"\n",
        "user_id = \"316u2o6h73qemlfdlbccen5ok4iy\"\n",
        "\n",
        "# OUR FILTERS\n",
        "limit=30\n",
        "market=\"US&UK\"\n",
        "seed_genres=\"slow\"\n",
        "target_danceability=1.0\n",
        "uris = [] \n",
        "seed_artists = '4dpARuHxo51G3z768sgnrY'\n",
        "seed_tracks='3bNv3VuUOKgrf5hu3YcuRo'\n",
        "\n",
        "# PERFORM THE QUERY\n",
        "query = f'{endpoint_url}limit={limit}&market={market}&seed_genres={seed_genres}&target_danceability={target_danceability}'\n",
        "query += f'&seed_artists={seed_artists}'\n",
        "query += f'&seed_tracks={seed_tracks}'\n",
        "\n",
        "response = requests.get(query, \n",
        "               headers={\"Content-Type\":\"application/json\", \n",
        "                        \"Authorization\":f\"Bearer {token}\"})\n",
        "json_response = response.json()\n",
        "\n",
        "print('Recommended Songs:')\n",
        "for i,j in enumerate(json_response['tracks']):\n",
        "            uris.append(j['uri'])\n",
        "            print(f\"{i+1}) \\\"{j['name']}\\\" by {j['artists'][0]['name']}\")\n",
        "\n",
        "    "
      ]
    },
    {
      "cell_type": "code",
      "execution_count": null,
      "metadata": {
        "colab": {
          "base_uri": "https://localhost:8080/"
        },
        "id": "5GcqecdMoRgO",
        "outputId": "caf0f131-c17d-4659-b327-f16df5cb75e2"
      },
      "outputs": [
        {
          "output_type": "stream",
          "name": "stdout",
          "text": [
            "201\n"
          ]
        }
      ],
      "source": [
        "# CREATE A NEW PLAYLIST\n",
        "\n",
        "import requests\n",
        "import json \n",
        "\n",
        "endpoint_url = f\"https://api.spotify.com/v1/users/316u2o6h73qemlfdlbccen5ok4iy/playlists\"\n",
        "\n",
        "request_body = json.dumps({\n",
        "          \"name\": \"Spotify Music Generator but using Python\",\n",
        "          \"description\": \"My first programmatic playlist!\",\n",
        "          \"public\": False\n",
        "        })\n",
        "response = requests.post(url = endpoint_url, data = request_body, headers={\"Content-Type\":\"application/json\", \n",
        "                        \"Authorization\":f\"Bearer {token}\"})\n",
        "\n",
        "url = response.json()['external_urls']['spotify']\n",
        "print(response.status_code)"
      ]
    },
    {
      "cell_type": "code",
      "execution_count": null,
      "metadata": {
        "id": "ofwAUDHCoRgP",
        "outputId": "4d97446e-82fd-47d3-ee39-db189aa5397c",
        "colab": {
          "base_uri": "https://localhost:8080/"
        }
      },
      "outputs": [
        {
          "output_type": "stream",
          "name": "stdout",
          "text": [
            "404\n"
          ]
        }
      ],
      "source": [
        "# FILL THE NEW PLAYLIST WITH THE RECOMMENDATIONS\n",
        "\n",
        "playlist_id = response.json()['id']\n",
        "\n",
        "endpoint_url = f\"https://api.spotify.com/v1/playlists/playlist_id/tracks\"\n",
        "\n",
        "request_body = json.dumps({\n",
        "          \"uris\" : uris\n",
        "        })\n",
        "response = requests.post(url = endpoint_url, data = request_body, headers={\"Content-Type\":\"application/json\", \n",
        "                        \"Authorization\":f\"Bearer {token}\"})\n",
        "\n",
        "print(response.status_code)\n"
      ]
    },
    {
      "cell_type": "code",
      "execution_count": null,
      "metadata": {
        "id": "olpjQsWUoRgQ",
        "colab": {
          "base_uri": "https://localhost:8080/"
        },
        "outputId": "33307900-4a08-41a8-c618-6f84a7cc757f"
      },
      "outputs": [
        {
          "output_type": "stream",
          "name": "stdout",
          "text": [
            "Your playlist is ready at https://open.spotify.com/playlist/1nEBl4rFobAYp1ODGv1q4U\n"
          ]
        }
      ],
      "source": [
        "print(f'Your playlist is ready at {url}')"
      ]
    }
  ],
  "metadata": {
    "kernelspec": {
      "display_name": "Python 3",
      "language": "python",
      "name": "python3"
    },
    "language_info": {
      "codemirror_mode": {
        "name": "ipython",
        "version": 3
      },
      "file_extension": ".py",
      "mimetype": "text/x-python",
      "name": "python",
      "nbconvert_exporter": "python",
      "pygments_lexer": "ipython3",
      "version": "3.6.3"
    },
    "colab": {
      "name": "playlist_generator_spotify.ipynb",
      "provenance": []
    }
  },
  "nbformat": 4,
  "nbformat_minor": 0
}